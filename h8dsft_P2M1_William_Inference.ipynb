{
 "cells": [
  {
   "cell_type": "markdown",
   "metadata": {},
   "source": [
    "# Import Libraries"
   ]
  },
  {
   "cell_type": "code",
   "execution_count": 2,
   "metadata": {},
   "outputs": [],
   "source": [
    "import pickle\n",
    "from tensorflow.keras.models import load_model\n",
    "import pandas as pd\n",
    "import numpy as np"
   ]
  },
  {
   "cell_type": "markdown",
   "metadata": {},
   "source": [
    "# Load model"
   ]
  },
  {
   "cell_type": "code",
   "execution_count": 3,
   "metadata": {},
   "outputs": [],
   "source": [
    "with open('prep_pipeline.pkl','rb') as file1:\n",
    "    prep = pickle.load(file1)\n",
    "\n",
    "ann = load_model('churn_model.h5')"
   ]
  },
  {
   "cell_type": "markdown",
   "metadata": {},
   "source": [
    "# Inferencing"
   ]
  },
  {
   "cell_type": "code",
   "execution_count": 14,
   "metadata": {},
   "outputs": [
    {
     "data": {
      "text/html": [
       "<div>\n",
       "<style scoped>\n",
       "    .dataframe tbody tr th:only-of-type {\n",
       "        vertical-align: middle;\n",
       "    }\n",
       "\n",
       "    .dataframe tbody tr th {\n",
       "        vertical-align: top;\n",
       "    }\n",
       "\n",
       "    .dataframe thead th {\n",
       "        text-align: right;\n",
       "    }\n",
       "</style>\n",
       "<table border=\"1\" class=\"dataframe\">\n",
       "  <thead>\n",
       "    <tr style=\"text-align: right;\">\n",
       "      <th></th>\n",
       "      <th>user_id</th>\n",
       "      <th>age</th>\n",
       "      <th>gender</th>\n",
       "      <th>region_category</th>\n",
       "      <th>membership_category</th>\n",
       "      <th>joining_date</th>\n",
       "      <th>joined_through_referral</th>\n",
       "      <th>preferred_offer_types</th>\n",
       "      <th>medium_of_operation</th>\n",
       "      <th>internet_option</th>\n",
       "      <th>...</th>\n",
       "      <th>avg_time_spent</th>\n",
       "      <th>avg_transaction_value</th>\n",
       "      <th>avg_frequency_login_days</th>\n",
       "      <th>points_in_wallet</th>\n",
       "      <th>used_special_discount</th>\n",
       "      <th>offer_application_preference</th>\n",
       "      <th>past_complaint</th>\n",
       "      <th>complaint_status</th>\n",
       "      <th>feedback</th>\n",
       "      <th>sentimen</th>\n",
       "    </tr>\n",
       "  </thead>\n",
       "  <tbody>\n",
       "    <tr>\n",
       "      <th>0</th>\n",
       "      <td>weg482sdfg487r5</td>\n",
       "      <td>35</td>\n",
       "      <td>F</td>\n",
       "      <td>City</td>\n",
       "      <td>Gold Membership</td>\n",
       "      <td>2016-06-06</td>\n",
       "      <td>Yes</td>\n",
       "      <td>Without Offers</td>\n",
       "      <td>Smartphone</td>\n",
       "      <td>Mobile_Data</td>\n",
       "      <td>...</td>\n",
       "      <td>500</td>\n",
       "      <td>30000</td>\n",
       "      <td>20.0</td>\n",
       "      <td>700.0</td>\n",
       "      <td>Yes</td>\n",
       "      <td>No</td>\n",
       "      <td>No</td>\n",
       "      <td>Solved</td>\n",
       "      <td>Reasonable Price</td>\n",
       "      <td>positif</td>\n",
       "    </tr>\n",
       "  </tbody>\n",
       "</table>\n",
       "<p>1 rows × 22 columns</p>\n",
       "</div>"
      ],
      "text/plain": [
       "           user_id  age gender region_category membership_category   \n",
       "0  weg482sdfg487r5   35      F            City     Gold Membership  \\\n",
       "\n",
       "  joining_date joined_through_referral preferred_offer_types   \n",
       "0   2016-06-06                     Yes        Without Offers  \\\n",
       "\n",
       "  medium_of_operation internet_option  ... avg_time_spent   \n",
       "0          Smartphone     Mobile_Data  ...            500  \\\n",
       "\n",
       "   avg_transaction_value  avg_frequency_login_days  points_in_wallet   \n",
       "0                  30000                      20.0             700.0  \\\n",
       "\n",
       "   used_special_discount  offer_application_preference past_complaint   \n",
       "0                    Yes                            No             No  \\\n",
       "\n",
       "  complaint_status          feedback sentimen  \n",
       "0           Solved  Reasonable Price  positif  \n",
       "\n",
       "[1 rows x 22 columns]"
      ]
     },
     "execution_count": 14,
     "metadata": {},
     "output_type": "execute_result"
    }
   ],
   "source": [
    "data_inf = {\n",
    "    'user_id' : 'weg482sdfg487r5',\n",
    "    'age' : 35,\n",
    "    'gender' : 'F',\n",
    "    'region_category' : 'City',\n",
    "    'membership_category' : 'Gold Membership',\n",
    "    'joining_date' : '2016-06-06',\n",
    "    'joined_through_referral' : 'Yes',\n",
    "    'preferred_offer_types' : 'Without Offers',\n",
    "    'medium_of_operation' : 'Smartphone',\n",
    "    'internet_option' : 'Mobile_Data',\n",
    "    'last_visit_time' : '18:00:00',                         # Making new dataframe for Inference\n",
    "    'days_since_last_login' : 9,\n",
    "    'avg_time_spent' : 500,\n",
    "    'avg_transaction_value' : 30000,\n",
    "    'avg_frequency_login_days': 20.0,\n",
    "    'points_in_wallet': 700.0,\n",
    "    'used_special_discount' : 'Yes',\n",
    "    'offer_application_preference': 'No',\n",
    "    'past_complaint' : 'No', \n",
    "    'complaint_status' : 'Solved',\n",
    "    'feedback' : 'Reasonable Price',\n",
    "    'sentimen' : 'positif'\n",
    "}\n",
    "data_inf = pd.DataFrame([data_inf])\n",
    "data_inf"
   ]
  },
  {
   "cell_type": "code",
   "execution_count": 13,
   "metadata": {},
   "outputs": [
    {
     "name": "stdout",
     "output_type": "stream",
     "text": [
      "1/1 [==============================] - 0s 30ms/step\n"
     ]
    },
    {
     "data": {
      "text/plain": [
       "array([[0]])"
      ]
     },
     "execution_count": 13,
     "metadata": {},
     "output_type": "execute_result"
    }
   ],
   "source": [
    "# Predict Using ANN\n",
    "final_data_inf = prep.transform(data_inf)\n",
    "y_pred_inf = ann.predict(final_data_inf)\n",
    "y_pred_inf = np.where(y_pred_inf >= 0.5 , 1 , 0)\n",
    "y_pred_inf"
   ]
  }
 ],
 "metadata": {
  "kernelspec": {
   "display_name": "base",
   "language": "python",
   "name": "python3"
  },
  "language_info": {
   "codemirror_mode": {
    "name": "ipython",
    "version": 3
   },
   "file_extension": ".py",
   "mimetype": "text/x-python",
   "name": "python",
   "nbconvert_exporter": "python",
   "pygments_lexer": "ipython3",
   "version": "3.9.16"
  },
  "orig_nbformat": 4
 },
 "nbformat": 4,
 "nbformat_minor": 2
}
